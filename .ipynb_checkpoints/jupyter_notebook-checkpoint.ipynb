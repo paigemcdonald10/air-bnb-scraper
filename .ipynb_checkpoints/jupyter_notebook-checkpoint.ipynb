{
 "cells": [
  {
   "cell_type": "code",
   "execution_count": 2,
   "metadata": {},
   "outputs": [],
   "source": [
    "# Import required libraries\n",
    "import requests\n",
    "from bs4 import BeautifulSoup\n",
    "import pandas as pd\n",
    "import numpy as np"
   ]
  },
  {
   "cell_type": "code",
   "execution_count": 3,
   "metadata": {},
   "outputs": [],
   "source": [
    "# enter url of Airbnb search you would like to scrape\n",
    "url = 'https://www.airbnb.ca/s/Courtenay--BC/homes?tab_id=home_tab&refinement_paths%5B%5D=%2Fhomes&checkin=2021-07-09&checkout=2021-07-12&adults=2&source=structured_search_input_header&search_type=filter_change&place_id=ChIJYUMedo4TiFQRsBJ7KhU1AQU'"
   ]
  },
  {
   "cell_type": "code",
   "execution_count": 4,
   "metadata": {},
   "outputs": [],
   "source": [
    "# create soup object\n",
    "page = requests.get(url)\n",
    "soup = BeautifulSoup(page.content, 'lxml')"
   ]
  },
  {
   "cell_type": "code",
   "execution_count": 5,
   "metadata": {},
   "outputs": [],
   "source": [
    "# create a list of listings\n",
    "rooms = soup.findAll(\"div\", {\"class\": \"_gig1e7\"})\n",
    "listings = []\n",
    "for room in rooms:\n",
    "    listings.append(room)"
   ]
  },
  {
   "cell_type": "code",
   "execution_count": 9,
   "metadata": {},
   "outputs": [],
   "source": [
    "# get info for each listing and put into a dataframe\n",
    "links, titles, descriptions, infos, prices, ratings = [], [], [], [], [], []\n",
    "for listing in listings:\n",
    "    links.append(\"http://airbnb.com\" + listing.find(\"a\")[\"href\"]) # listing link\n",
    "    titles.append(listing.find(\"meta\")[\"content\"]) # listing title\n",
    "    descriptions.append(listing.find(\"div\", {\"class\": \"_167qordg\"}).text) # listing description\n",
    "    infos.append(listing.find(\"div\", {\"class\":\"_kqh46o\"}).text) # listing guest and room info\n",
    "    prices.append(listing.find(\"div\", {\"class\":\"_1fwiw8gv\"}).text) # listing price\n",
    "    ratings.append(listing.find(\"span\", {\"class\":\"_krjbj\"}).text) # listing rating \n",
    "    #reviews.append(listing.find(\"\"))\n",
    "dict = {'link': links, 'title': titles, 'description': descriptions, 'info': infos, 'price': prices, 'rating': ratings}\n",
    "df = pd.DataFrame(dict)"
   ]
  },
  {
   "cell_type": "markdown",
   "metadata": {},
   "source": []
  }
 ],
 "metadata": {
  "kernelspec": {
   "display_name": "Python 3",
   "language": "python",
   "name": "python3"
  },
  "language_info": {
   "codemirror_mode": {
    "name": "ipython",
    "version": 3
   },
   "file_extension": ".py",
   "mimetype": "text/x-python",
   "name": "python",
   "nbconvert_exporter": "python",
   "pygments_lexer": "ipython3",
   "version": "3.7.4"
  }
 },
 "nbformat": 4,
 "nbformat_minor": 2
}
