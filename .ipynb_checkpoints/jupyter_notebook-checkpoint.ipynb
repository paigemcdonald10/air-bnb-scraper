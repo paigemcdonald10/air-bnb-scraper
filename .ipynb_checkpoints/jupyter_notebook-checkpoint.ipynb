{
 "cells": [
  {
   "cell_type": "code",
   "execution_count": 2,
   "metadata": {},
   "outputs": [],
   "source": [
    "# Import required libraries\n",
    "import requests\n",
    "from bs4 import BeautifulSoup\n",
    "import pandas as pd\n",
    "import numpy as np"
   ]
  },
  {
   "cell_type": "code",
   "execution_count": 3,
   "metadata": {},
   "outputs": [],
   "source": [
    "# enter url of Airbnb search you would like to scrape\n",
    "url = 'https://www.airbnb.ca/s/Courtenay--BC/homes?tab_id=home_tab&refinement_paths%5B%5D=%2Fhomes&checkin=2021-07-09&checkout=2021-07-12&adults=2&source=structured_search_input_header&search_type=filter_change&place_id=ChIJYUMedo4TiFQRsBJ7KhU1AQU'"
   ]
  },
  {
   "cell_type": "code",
   "execution_count": 4,
   "metadata": {},
   "outputs": [],
   "source": [
    "# create soup object\n",
    "page = requests.get(url)\n",
    "soup = BeautifulSoup(page.content, 'lxml')"
   ]
  },
  {
   "cell_type": "code",
   "execution_count": 5,
   "metadata": {},
   "outputs": [],
   "source": [
    "# create a list of listings\n",
    "rooms = soup.findAll(\"div\", {\"class\": \"_gig1e7\"})\n",
    "listings = []\n",
    "for room in rooms:\n",
    "    listings.append(room)"
   ]
  },
  {
   "cell_type": "code",
   "execution_count": 18,
   "metadata": {},
   "outputs": [],
   "source": [
    "# get info for each listing and put into a dataframe\n",
    "\n",
    "links, titles, descriptions, infos, prices, ratings = [], [], [], [], [], []\n",
    "for listing in listings:\n",
    "    links.append(\"http://airbnb.com\" + listing.find(\"a\")[\"href\"]) # listing link\n",
    "    titles.append(listing.find(\"meta\")[\"content\"]) # listing title\n",
    "    descriptions.append(listing.find(\"div\", {\"class\": \"_167qordg\"}).text) # listing description\n",
    "    infos.append(listing.find(\"div\", {\"class\":\"_kqh46o\"}).text) # listing guest and room info\n",
    "    prices.append(listing.find(\"div\", {\"class\":\"_1fwiw8gv\"}).text) # listing price\n",
    "    ratings.append(listing.find(\"span\", {\"class\":\"_krjbj\"}).text) # listing rating \n",
    "dict = {'link': links, 'title': titles, 'description': descriptions, 'info': infos, 'price': prices, 'rating': ratings}\n",
    "df = pd.DataFrame(dict)"
   ]
  },
  {
   "cell_type": "code",
   "execution_count": 21,
   "metadata": {},
   "outputs": [
    {
     "data": {
      "text/html": [
       "<div>\n",
       "<style scoped>\n",
       "    .dataframe tbody tr th:only-of-type {\n",
       "        vertical-align: middle;\n",
       "    }\n",
       "\n",
       "    .dataframe tbody tr th {\n",
       "        vertical-align: top;\n",
       "    }\n",
       "\n",
       "    .dataframe thead th {\n",
       "        text-align: right;\n",
       "    }\n",
       "</style>\n",
       "<table border=\"1\" class=\"dataframe\">\n",
       "  <thead>\n",
       "    <tr style=\"text-align: right;\">\n",
       "      <th></th>\n",
       "      <th>link</th>\n",
       "      <th>title</th>\n",
       "      <th>description</th>\n",
       "      <th>info</th>\n",
       "      <th>price</th>\n",
       "      <th>rating</th>\n",
       "    </tr>\n",
       "  </thead>\n",
       "  <tbody>\n",
       "    <tr>\n",
       "      <td>0</td>\n",
       "      <td>http://airbnb.com/rooms/34614581?adults=2&amp;chec...</td>\n",
       "      <td>Eagle Tree Retreat. - null - Comox-Strathcona D</td>\n",
       "      <td>Entire bungalow in Comox-Strathcona D</td>\n",
       "      <td>6 guests · 3 bedrooms · 3 beds · 1 bath</td>\n",
       "      <td>Price:$179 CAD/night</td>\n",
       "      <td>Rating 5.0 out of 5;</td>\n",
       "    </tr>\n",
       "    <tr>\n",
       "      <td>1</td>\n",
       "      <td>http://airbnb.com/rooms/20900220?adults=2&amp;chec...</td>\n",
       "      <td>The Barn at McAllister Farm - null - Comox</td>\n",
       "      <td>Barn in Comox</td>\n",
       "      <td>2 guests · Studio · 1 bed · 1 bath</td>\n",
       "      <td>Price:$133 CAD/night</td>\n",
       "      <td>Rating 4.98 out of 5;</td>\n",
       "    </tr>\n",
       "    <tr>\n",
       "      <td>2</td>\n",
       "      <td>http://airbnb.com/rooms/35259012?adults=2&amp;chec...</td>\n",
       "      <td>Downtown Mini Pad - null - Courtenay</td>\n",
       "      <td>Tiny house in Courtenay</td>\n",
       "      <td>2 guests · 1 bedroom · 1 bed · 1 bath</td>\n",
       "      <td>Price:$123 CAD/night</td>\n",
       "      <td>Rating 4.89 out of 5;</td>\n",
       "    </tr>\n",
       "    <tr>\n",
       "      <td>3</td>\n",
       "      <td>http://airbnb.com/rooms/24065129?adults=2&amp;chec...</td>\n",
       "      <td>Rustic Waterfront Cottage - null - Courtenay</td>\n",
       "      <td>Entire cabin in Courtenay</td>\n",
       "      <td>5 guests · 2 bedrooms · 2 beds · 1 bath</td>\n",
       "      <td>Price:$280 CAD/night</td>\n",
       "      <td>Rating 4.71 out of 5;</td>\n",
       "    </tr>\n",
       "    <tr>\n",
       "      <td>4</td>\n",
       "      <td>http://airbnb.com/rooms/35649803?adults=2&amp;chec...</td>\n",
       "      <td>Guest Suite - Salsbury Acreage - null - Courtenay</td>\n",
       "      <td>Entire guest suite in Courtenay</td>\n",
       "      <td>2 guests · Studio · 1 bed · 1 bath</td>\n",
       "      <td>Price:$72 CAD/night</td>\n",
       "      <td>Rating 4.83 out of 5;</td>\n",
       "    </tr>\n",
       "  </tbody>\n",
       "</table>\n",
       "</div>"
      ],
      "text/plain": [
       "                                                link  \\\n",
       "0  http://airbnb.com/rooms/34614581?adults=2&chec...   \n",
       "1  http://airbnb.com/rooms/20900220?adults=2&chec...   \n",
       "2  http://airbnb.com/rooms/35259012?adults=2&chec...   \n",
       "3  http://airbnb.com/rooms/24065129?adults=2&chec...   \n",
       "4  http://airbnb.com/rooms/35649803?adults=2&chec...   \n",
       "\n",
       "                                               title  \\\n",
       "0    Eagle Tree Retreat. - null - Comox-Strathcona D   \n",
       "1         The Barn at McAllister Farm - null - Comox   \n",
       "2               Downtown Mini Pad - null - Courtenay   \n",
       "3       Rustic Waterfront Cottage - null - Courtenay   \n",
       "4  Guest Suite - Salsbury Acreage - null - Courtenay   \n",
       "\n",
       "                             description  \\\n",
       "0  Entire bungalow in Comox-Strathcona D   \n",
       "1                          Barn in Comox   \n",
       "2                Tiny house in Courtenay   \n",
       "3              Entire cabin in Courtenay   \n",
       "4        Entire guest suite in Courtenay   \n",
       "\n",
       "                                      info                 price  \\\n",
       "0  6 guests · 3 bedrooms · 3 beds · 1 bath  Price:$179 CAD/night   \n",
       "1       2 guests · Studio · 1 bed · 1 bath  Price:$133 CAD/night   \n",
       "2    2 guests · 1 bedroom · 1 bed · 1 bath  Price:$123 CAD/night   \n",
       "3  5 guests · 2 bedrooms · 2 beds · 1 bath  Price:$280 CAD/night   \n",
       "4       2 guests · Studio · 1 bed · 1 bath   Price:$72 CAD/night   \n",
       "\n",
       "                  rating  \n",
       "0   Rating 5.0 out of 5;  \n",
       "1  Rating 4.98 out of 5;  \n",
       "2  Rating 4.89 out of 5;  \n",
       "3  Rating 4.71 out of 5;  \n",
       "4  Rating 4.83 out of 5;  "
      ]
     },
     "execution_count": 21,
     "metadata": {},
     "output_type": "execute_result"
    }
   ],
   "source": [
    "# take a look at dataframe\n",
    "df.head()"
   ]
  }
 ],
 "metadata": {
  "kernelspec": {
   "display_name": "Python 3",
   "language": "python",
   "name": "python3"
  },
  "language_info": {
   "codemirror_mode": {
    "name": "ipython",
    "version": 3
   },
   "file_extension": ".py",
   "mimetype": "text/x-python",
   "name": "python",
   "nbconvert_exporter": "python",
   "pygments_lexer": "ipython3",
   "version": "3.7.4"
  }
 },
 "nbformat": 4,
 "nbformat_minor": 2
}
